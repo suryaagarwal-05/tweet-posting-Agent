{
 "cells": [
  {
   "cell_type": "code",
   "execution_count": 2,
   "id": "87dee4ec",
   "metadata": {},
   "outputs": [
    {
     "data": {
      "image/png": "[encoded data removed]",
      "text/plain": [
       "<IPython.core.display.Image object>"
      ]
     },
     "metadata": {},
     "output_type": "display_data"
    }
   ],
   "source": [
    "from langgraph.graph import StateGraph, START, END\n",
    "from pydantic import BaseModel\n",
    "from langchain.chat_models import init_chat_model\n",
    "from dotenv import load_dotenv\n",
    "from IPython.display import Image, display\n",
    "\n",
    "import getpass\n",
    "import os\n",
    "import logging\n",
    "\n",
    "# Configure logging\n",
    "logging.basicConfig(\n",
    "    level=logging.DEBUG,\n",
    "    format=\"%(asctime)s - %(levelname)s - %(message)s\",\n",
    "    filename=\"tweet_agent.log\",\n",
    ")\n",
    "\n",
    "load_dotenv()\n",
    "\n",
    "# Initialise LLM \n",
    "if not os.environ.get(\"GOOGLE_API_KEY\"):\n",
    "  os.environ[\"GOOGLE_API_KEY\"] = getpass.getpass(\"Enter API key for Google Gemini: \")\n",
    "  \n",
    "# Initialize the chat model with the Google Gemini API key\n",
    "model = init_chat_model(\"gemini-2.5-pro\", model_provider= \"google_genai\")\n",
    "\n",
    "# response = model.invoke(\"Hello, how are you?\")\n",
    "# print(response)\n",
    "\n",
    "# Class for passing state across nodes\n",
    "class State(BaseModel):\n",
    "    description : str\n",
    "    body: str\n",
    "    \n",
    "## Functions for nodes\n",
    "\n",
    "# Function to generate a tweet\n",
    "def generate_tweet():\n",
    "    \"\"\"\n",
    "    This Function will call llm to generate a tweet.\n",
    "    \"\"\"\n",
    "    logging.debug(\"Generating tweet content using LLM\")\n",
    "   \n",
    "# Function to post a tweet \n",
    "def post_tweet(tweetContent:str):\n",
    "    \"\"\"\n",
    "    This Function will call tweeter api tool to post a tweet.\n",
    "    \"\"\"\n",
    "    logging.debug(f\"Posting tweet: {tweetContent}\")\n",
    "\n",
    "#function to build graph\n",
    "def create_graph():\n",
    "    #initialize the state graph    \n",
    "    graph_builder = StateGraph(State)\n",
    "\n",
    "    # Define the nodes in the graph\n",
    "    graph_builder.add_node(\"generate_tweet\", generate_tweet)\n",
    "    graph_builder.add_node(\"post_tweet\", post_tweet)\n",
    "\n",
    "    # Define the edges in the graph\n",
    "    graph_builder.add_edge(START, \"generate_tweet\")\n",
    "    graph_builder.add_edge(\"generate_tweet\", \"post_tweet\")\n",
    "    graph_builder.add_edge(\"post_tweet\", END)\n",
    "\n",
    "    # Compile the graph\n",
    "    graph = graph_builder.compile()\n",
    "    display(Image(graph.get_graph().draw_mermaid_png()))    #not working in logs but visible in ipynb\n",
    "    \n",
    "create_graph()\n",
    "\n"
   ]
  }
 ],
 "metadata": {
  "kernelspec": {
   "display_name": "myenv",
   "language": "python",
   "name": "python3"
  },
  "language_info": {
   "codemirror_mode": {
    "name": "ipython",
    "version": 3
   },
   "file_extension": ".py",
   "mimetype": "text/x-python",
   "name": "python",
   "nbconvert_exporter": "python",
   "pygments_lexer": "ipython3",
   "version": "3.10.18"
  }
 },
 "nbformat": 4,
 "nbformat_minor": 5
}
